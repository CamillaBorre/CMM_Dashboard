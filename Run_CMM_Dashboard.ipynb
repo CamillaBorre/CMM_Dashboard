{
 "cells": [
  {
   "cell_type": "code",
   "execution_count": 4,
   "id": "19b82357",
   "metadata": {},
   "outputs": [],
   "source": [
    "#First time running this? Change to First_time = True to install correct packages. \n",
    "#Change back to First_time = False to save time after installation complete\n",
    "First_time = False\n",
    "#\n",
    "if First_time:\n",
    "    !pip install bokeh==2.4.3\n",
    "    !pip install pandas\n",
    "    !pip install openpyxl\n",
    "    !pip install scipy\n",
    "    !pip install matplotlib\n",
    "    !pip install opencv-python\n",
    "    !pip install beautifulsoup4\n",
    "    !pip install lxml"
   ]
  },
  {
   "cell_type": "code",
   "execution_count": 5,
   "id": "4ba315ef",
   "metadata": {},
   "outputs": [],
   "source": [
    "##############--------------ONLY EDIT THIS BLOCK--------------##############\n",
    "import os\n",
    "import pandas as pd\n",
    "#Version 2.9\n",
    "\n",
    "#Where is the data located \n",
    "Data_folder = 'CMM_Data'\n",
    "\n",
    "#Where should files be saved\n",
    "Save_folder = 'Data'\n",
    "\n",
    "#Select devision category. 'Print_ID', 'Print_ID_layer' \n",
    "category = 'Print_ID'\n",
    "\n",
    "\n",
    "#Which parameters to plot. If [] plot all . E.g. Parameters = ['AFV12']\n",
    "Parameters = []\n",
    "\n",
    "#Tolerances used for controle chart calculations\n",
    "#Default Tolerances =  pd.DataFrame({})\n",
    "#Change 'Myparameter' to the one you want to calculate. E.g. 'AFV12_USL' and 'AFV12_LSL'\n",
    "Tolerances =  pd.DataFrame({\n",
    "            'Myparameter_USL': [0.3],\n",
    "            'Myparameter_LSL': [0.29],\n",
    "    \n",
    "            })\n",
    "\n",
    "#Set ranges for colourmap in heatmaps. If left empty larget and smallest values in data set will be used as range. \n",
    "#Default Colourmap_range =  pd.DataFrame({})\n",
    "Colourmap_range =  pd.DataFrame({\n",
    "\n",
    "    \n",
    "            })\n"
   ]
  },
  {
   "cell_type": "code",
   "execution_count": 6,
   "id": "d45be6c6",
   "metadata": {
    "scrolled": false
   },
   "outputs": [],
   "source": [
    "\n",
    "\n",
    "#Define script locations\n",
    "Path = '.'\n",
    "Script = 'CMM_Dashboard_Code.ipynb'\n",
    "\n",
    "\n",
    "\n",
    "\n",
    "\n",
    "#Find and run script \n",
    "%run $Script\n",
    "Run(Path,Data_folder+'/',Save_folder,Parameters = Parameters,category=category,Tolerances=Tolerances,Colourmap_range=Colourmap_range)"
   ]
  },
  {
   "cell_type": "code",
   "execution_count": null,
   "id": "2fbcf8ed",
   "metadata": {},
   "outputs": [],
   "source": []
  }
 ],
 "metadata": {
  "kernelspec": {
   "display_name": "Python 3 (ipykernel)",
   "language": "python",
   "name": "python3"
  },
  "language_info": {
   "codemirror_mode": {
    "name": "ipython",
    "version": 3
   },
   "file_extension": ".py",
   "mimetype": "text/x-python",
   "name": "python",
   "nbconvert_exporter": "python",
   "pygments_lexer": "ipython3",
   "version": "3.7.9"
  }
 },
 "nbformat": 4,
 "nbformat_minor": 5
}
